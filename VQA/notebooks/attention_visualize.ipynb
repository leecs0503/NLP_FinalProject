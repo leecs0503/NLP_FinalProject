{
 "cells": [
  {
   "cell_type": "code",
   "execution_count": null,
   "metadata": {},
   "outputs": [],
   "source": [
    "# model load\n",
    "\n",
    "\n",
    "\n",
    "\n"
   ]
  },
  {
   "cell_type": "code",
   "execution_count": null,
   "metadata": {},
   "outputs": [],
   "source": [
    "# data load"
   ]
  },
  {
   "cell_type": "code",
   "execution_count": null,
   "metadata": {},
   "outputs": [],
   "source": [
    "# 해당 데이터에 대한 faster rcnn box visualization\n",
    "# 기본 model 로드 코드\n",
    "# self.model = fasterrcnn_resnet50_fpn(pretrained=True)\n",
    "# self.model.roi_heads.nms_thresh=0.7\n",
    "\n"
   ]
  },
  {
   "cell_type": "code",
   "execution_count": null,
   "metadata": {},
   "outputs": [],
   "source": [
    "# model에 들어가는 값이 model(img_feat, img_mask, qst)\n",
    "# img_mask = True True .... True False False ... False가 들어가야 하고\n",
    "# img_feat에 순서가 faster rcnn이 반환한 박스 순서랑 같음\n",
    "# attention에 값과 faster rcnn에서 리턴된 box를 조인하여 그리기"
   ]
  }
 ],
 "metadata": {
  "language_info": {
   "name": "python"
  },
  "orig_nbformat": 4
 },
 "nbformat": 4,
 "nbformat_minor": 2
}
